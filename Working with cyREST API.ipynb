{
 "cells": [
  {
   "cell_type": "code",
   "execution_count": 1,
   "metadata": {},
   "outputs": [
    {
     "name": "stdout",
     "output_type": "stream",
     "text": [
      "My Python Version =3.6.1 (default, Apr  4 2017, 09:40:21) \n",
      "[GCC 4.2.1 Compatible Apple LLVM 8.1.0 (clang-802.0.38)]\n"
     ]
    }
   ],
   "source": [
    "import sys\n",
    "print ('My Python Version =' + sys.version)"
   ]
  },
  {
   "cell_type": "code",
   "execution_count": 11,
   "metadata": {},
   "outputs": [],
   "source": [
    "import requests\n",
    "import json\n",
    "PORT_NUMBER = 1234\n",
    "IP = 'localhost'\n",
    "BASE = 'http://' + IP + ':' + str(PORT_NUMBER) + '/v1/'\n",
    "HEADERS = {'Content-Type': 'application/json'}"
   ]
  },
  {
   "cell_type": "code",
   "execution_count": 6,
   "metadata": {
    "collapsed": true
   },
   "outputs": [],
   "source": [
    "res = requests.get(BASE)"
   ]
  },
  {
   "cell_type": "code",
   "execution_count": 7,
   "metadata": {},
   "outputs": [
    {
     "name": "stdout",
     "output_type": "stream",
     "text": [
      "{\n",
      "    \"apiVersion\": \"v1\",\n",
      "    \"numberOfCores\": 4,\n",
      "    \"memoryStatus\": {\n",
      "        \"usedMemory\": 1416,\n",
      "        \"freeMemory\": 814,\n",
      "        \"totalMemory\": 2230,\n",
      "        \"maxMemory\": 3460\n",
      "    }\n",
      "}\n"
     ]
    }
   ],
   "source": [
    "status_object = res.json();\n",
    "print(json.dumps(status_object, indent=4))"
   ]
  },
  {
   "cell_type": "code",
   "execution_count": 8,
   "metadata": {},
   "outputs": [
    {
     "name": "stdout",
     "output_type": "stream",
     "text": [
      "v1\n",
      "1416\n"
     ]
    }
   ],
   "source": [
    "print(status_object['apiVersion'])\n",
    "print(status_object['memoryStatus']['usedMemory'])"
   ]
  },
  {
   "cell_type": "code",
   "execution_count": 10,
   "metadata": {},
   "outputs": [
    {
     "name": "stdout",
     "output_type": "stream",
     "text": [
      "Empty network has SUID 290710\n"
     ]
    }
   ],
   "source": [
    "# Start from a clean slate: remove all networks from current session\n",
    "requests.delete(BASE + 'networks')\n",
    "\n",
    "# Manually generates JSON as dictionary\n",
    "\n",
    "empty_network = {\n",
    "        'data': {\n",
    "            'name': 'I\\'m empty!'\n",
    "        },\n",
    "        'elements': {\n",
    "            'nodes':[],\n",
    "            'edges':[]\n",
    "        }\n",
    "}\n",
    "\n",
    "res = requests.post(BASE + 'networks?collection=My%20Collection', data=json.dumps(empty_network), headers=HEADERS) \n",
    "net_suid = res.json()['networkSUID']\n",
    "print('Empty network has SUID ' + str(net_suid))"
   ]
  },
  {
   "cell_type": "code",
   "execution_count": 12,
   "metadata": {},
   "outputs": [
    {
     "data": {
      "text/plain": [
       "<Response [200]>"
      ]
     },
     "execution_count": 12,
     "metadata": {},
     "output_type": "execute_result"
    }
   ],
   "source": [
    "import copy\n",
    "\n",
    "# Create a copy of the empty network object\n",
    "small_network = copy.deepcopy(empty_network)\n",
    "\n",
    "# Sequence of letters (a-z)\n",
    "seq_letters = list(map(chr, range(ord('a'), ord('z')+1)))\n",
    "\n",
    "# Build nodes and edges (in functional way)\n",
    "build_node = lambda x: {'data': { 'id': x }}\n",
    "abc_nodes = list(map(build_node, seq_letters))\n",
    "\n",
    "build_edge = lambda x: {'data': { 'source': x, 'target': 'a' }}\n",
    "rand_edges = list(map(build_edge, seq_letters))\n",
    "\n",
    "small_network['elements']['nodes'] = abc_nodes\n",
    "small_network['elements']['edges'] = rand_edges\n",
    "small_network['data']['name'] = 'A is the hub.'\n",
    "\n",
    "# Uncomment this if you want to see the actual JSON object\n",
    "#print(json.dumps(small_network, indent=4))\n",
    "\n",
    "res = requests.post(BASE + 'networks?collection=My%20Collection', data=json.dumps(small_network), headers=HEADERS)\n",
    "res_dict = res.json()\n",
    "new_suid = res_dict['networkSUID']\n",
    "\n",
    "# Apply layout\n",
    "requests.get(BASE + 'apply/layouts/force-directed/' + str(new_suid))"
   ]
  }
 ],
 "metadata": {
  "kernelspec": {
   "display_name": "Python 3",
   "language": "python",
   "name": "python3"
  },
  "language_info": {
   "codemirror_mode": {
    "name": "ipython",
    "version": 3
   },
   "file_extension": ".py",
   "mimetype": "text/x-python",
   "name": "python",
   "nbconvert_exporter": "python",
   "pygments_lexer": "ipython3",
   "version": "3.6.1"
  }
 },
 "nbformat": 4,
 "nbformat_minor": 2
}
